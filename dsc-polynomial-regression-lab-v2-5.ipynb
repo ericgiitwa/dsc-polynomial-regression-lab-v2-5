{
 "cells": [
  {
   "cell_type": "markdown",
   "metadata": {},
   "source": [
    "# Polynomial Regression - Lab"
   ]
  },
  {
   "cell_type": "markdown",
   "metadata": {},
   "source": [
    "## Introduction"
   ]
  },
  {
   "cell_type": "markdown",
   "metadata": {},
   "source": [
    "In this lab, you'll practice your knowledge on adding polynomial terms to your regression model! "
   ]
  },
  {
   "cell_type": "markdown",
   "metadata": {},
   "source": [
    "## Objectives"
   ]
  },
  {
   "cell_type": "markdown",
   "metadata": {},
   "source": [
    "You will be able to:\n",
    "\n",
    "* Determine if polynomial regression would be useful for a specific model or set of data\n",
    "* Create polynomial terms out of independent variables in linear regression"
   ]
  },
  {
   "cell_type": "markdown",
   "metadata": {},
   "source": [
    "## Dataset"
   ]
  },
  {
   "cell_type": "markdown",
   "metadata": {},
   "source": [
    "For this lab you'll be using some generated data:"
   ]
  },
  {
   "cell_type": "code",
   "execution_count": 1,
   "metadata": {},
   "outputs": [
    {
     "data": {
      "text/html": [
       "<div>\n",
       "<style scoped>\n",
       "    .dataframe tbody tr th:only-of-type {\n",
       "        vertical-align: middle;\n",
       "    }\n",
       "\n",
       "    .dataframe tbody tr th {\n",
       "        vertical-align: top;\n",
       "    }\n",
       "\n",
       "    .dataframe thead th {\n",
       "        text-align: right;\n",
       "    }\n",
       "</style>\n",
       "<table border=\"1\" class=\"dataframe\">\n",
       "  <thead>\n",
       "    <tr style=\"text-align: right;\">\n",
       "      <th></th>\n",
       "      <th>x</th>\n",
       "      <th>y</th>\n",
       "    </tr>\n",
       "  </thead>\n",
       "  <tbody>\n",
       "    <tr>\n",
       "      <th>0</th>\n",
       "      <td>0.000000</td>\n",
       "      <td>0.942870</td>\n",
       "    </tr>\n",
       "    <tr>\n",
       "      <th>1</th>\n",
       "      <td>0.121212</td>\n",
       "      <td>-2.261629</td>\n",
       "    </tr>\n",
       "    <tr>\n",
       "      <th>2</th>\n",
       "      <td>0.242424</td>\n",
       "      <td>3.100749</td>\n",
       "    </tr>\n",
       "    <tr>\n",
       "      <th>3</th>\n",
       "      <td>0.363636</td>\n",
       "      <td>-0.285446</td>\n",
       "    </tr>\n",
       "    <tr>\n",
       "      <th>4</th>\n",
       "      <td>0.484848</td>\n",
       "      <td>-1.012210</td>\n",
       "    </tr>\n",
       "  </tbody>\n",
       "</table>\n",
       "</div>"
      ],
      "text/plain": [
       "          x         y\n",
       "0  0.000000  0.942870\n",
       "1  0.121212 -2.261629\n",
       "2  0.242424  3.100749\n",
       "3  0.363636 -0.285446\n",
       "4  0.484848 -1.012210"
      ]
     },
     "execution_count": 1,
     "metadata": {},
     "output_type": "execute_result"
    }
   ],
   "source": [
    "# Run this cell without changes\n",
    "import numpy as np\n",
    "import pandas as pd\n",
    "import matplotlib.pyplot as plt\n",
    "%matplotlib inline\n",
    "\n",
    "df = pd.read_csv('sample_data.csv')\n",
    "df.head()"
   ]
  },
  {
   "cell_type": "markdown",
   "metadata": {},
   "source": [
    "Let's check out a scatter plot of `x` vs. `y`: "
   ]
  },
  {
   "cell_type": "code",
   "execution_count": 2,
   "metadata": {},
   "outputs": [
    {
     "data": {
      "image/png": "[encoded data removed]",
      "text/plain": [
       "<Figure size 432x288 with 1 Axes>"
      ]
     },
     "metadata": {
      "needs_background": "light"
     },
     "output_type": "display_data"
    }
   ],
   "source": [
    "# Run this cell without changes\n",
    "df.plot.scatter(x=\"x\", y=\"y\");"
   ]
  },
  {
   "cell_type": "markdown",
   "metadata": {},
   "source": [
    "You will notice that the data is clearly of non-linear shape. Begin to think about what degree polynomial you believe will fit it best.\n",
    "\n",
    "You will fit several different models with different polynomial degrees, then plot them in the same plot at the end."
   ]
  },
  {
   "cell_type": "code",
   "execution_count": 3,
   "metadata": {},
   "outputs": [],
   "source": [
    "# Your code here - import StatsModels and separate the data into X and y\n",
    "import statsmodels.api as sm\n",
    "x = df['x']\n",
    "y = df['y']"
   ]
  },
  {
   "cell_type": "markdown",
   "metadata": {},
   "source": [
    "## Build and Evaluate a Quadratic Model\n",
    "\n",
    "This model should include a constant, `x`, and `x` squared. You can use `pandas` or `PolynomialFeatures` to create the squared term."
   ]
  },
  {
   "cell_type": "code",
   "execution_count": 4,
   "metadata": {},
   "outputs": [],
   "source": [
    "# Your code here - prepare quadratic data and fit a model\n",
    "x_sqrt = x**2\n",
    "x_constant = sm.add_constant(x)\n",
    "xsqrt_constant = sm.add_constant(x_sqrt)\n",
    "#building model\n",
    "x_constant_model = sm.OLS(y, x_constant).fit()\n",
    "xsqrt_constant_model = sm.OLS(y, xsqrt_constant).fit()\n"
   ]
  },
  {
   "cell_type": "code",
   "execution_count": 5,
   "metadata": {},
   "outputs": [
    {
     "name": "stdout",
     "output_type": "stream",
     "text": [
      " x_constant_model.params :const    0.156368\n",
      "x       -0.096494\n",
      "dtype: float64 x_constant_model.rsquared: -0.005317648269682396\n"
     ]
    }
   ],
   "source": [
    "# Your code here - evaluate (adjusted) R-Squared and coefficient p-values\n",
    "print(f\" x_constant_model.params :{x_constant_model.params} x_constant_model.rsquared: {x_constant_model.rsquared_adj}\")"
   ]
  },
  {
   "cell_type": "code",
   "execution_count": 6,
   "metadata": {},
   "outputs": [],
   "source": [
    "# Your written answer here - summarize findings\n"
   ]
  },
  {
   "cell_type": "markdown",
   "metadata": {},
   "source": [
    "<details>\n",
    "    <summary style=\"cursor: pointer\"><b>Answer (click to reveal)</b></summary>\n",
    "    \n",
    "This is not a good model. Because we have multiple terms and are explaining so little of the variance in `y`, we actually have a negative adjusted R-Squared.\n",
    "\n",
    "None of the coefficients are statistically significant at an alpha of 0.05\n",
    "    \n",
    "</details>"
   ]
  },
  {
   "cell_type": "markdown",
   "metadata": {},
   "source": [
    "## Build and Evaluate a 4th Degree Polynomial Model\n",
    "\n",
    "In other words, the model should include $x^0$ (intercept), $x^1$, $x^2$, $x^3$, and $x^4$ terms.\n",
    "\n",
    "At this point we recommend importing and using `PolynomialFeatures` if you haven't already!"
   ]
  },
  {
   "cell_type": "code",
   "execution_count": 7,
   "metadata": {},
   "outputs": [],
   "source": [
    "# Your code here - prepare 4th degree polynomial data and fit a model\n",
    "from sklearn.preprocessing import PolynomialFeatures\n",
    "import statsmodels.api as sm\n",
    "\n",
    "poly = PolynomialFeatures(degree=4)\n",
    "X_poly = poly.fit_transform(df[['x']])  # Ensure 2D input\n",
    "feature_names = [\"Intercept\"] + [f\"x^{i}\" for i in range(1, X_poly.shape[1])]\n",
    "X_poly = pd.DataFrame(X_poly, columns=feature_names, index=df.index)\n",
    "\n",
    "# Add constant for OLS regression\n",
    "X_poly = sm.add_constant(X_poly, has_constant='add')\n",
    "\n",
    "# Fit the model\n",
    "poly_model = sm.OLS(y, X_poly).fit()\n"
   ]
  },
  {
   "cell_type": "code",
   "execution_count": 8,
   "metadata": {},
   "outputs": [
    {
     "name": "stdout",
     "output_type": "stream",
     "text": [
      "poly_model.params: const         2.929479\n",
      "Intercept     2.929479\n",
      "x^1         -12.640647\n",
      "x^2           5.380178\n",
      "x^3          -0.756345\n",
      "x^4           0.033265\n",
      "dtype: float64, poly_model.rsquared_adj: 0.5667967820112249\n"
     ]
    }
   ],
   "source": [
    "# Your code here - evaluate (adjusted) R-Squared and coefficient p-values\n",
    "print(f\"poly_model.params: {poly_model.params}, poly_model.rsquared_adj: {poly_model.rsquared_adj}\")"
   ]
  },
  {
   "cell_type": "code",
   "execution_count": 9,
   "metadata": {},
   "outputs": [],
   "source": [
    "# Your written answer here - summarize findings\n"
   ]
  },
  {
   "cell_type": "markdown",
   "metadata": {},
   "source": [
    "<details>\n",
    "    <summary style=\"cursor: pointer\"><b>Answer (click to reveal)</b></summary>\n",
    "    \n",
    "This is much better. We are explaining 57-58% of the variance in the target and all of our coefficients are statistically significant at an alpha of 0.05.\n",
    "    \n",
    "</details>"
   ]
  },
  {
   "cell_type": "markdown",
   "metadata": {},
   "source": [
    "## Build and Evaluate an 8th Degree Polynomial Model\n",
    "\n",
    "This model should include $x^0$ through $x^8$."
   ]
  },
  {
   "cell_type": "code",
   "execution_count": 10,
   "metadata": {},
   "outputs": [],
   "source": [
    "# Your code here - prepare 8th degree polynomial data and fit a model\n",
    "poly = PolynomialFeatures(degree=8)\n",
    "X_poly_8 = poly.fit_transform(df[['x']])  # Ensure 2D input\n",
    "feature_names = [\"Intercept\"] + [f\"x^{i}\" for i in range(1, X_poly_8.shape[1])]\n",
    "X_poly_8 = pd.DataFrame(X_poly_8, columns=feature_names, index=df.index)\n",
    "\n",
    "# Add constant for OLS regression\n",
    "X_poly_8 = sm.add_constant(X_poly_8, has_constant='add')\n",
    "\n",
    "# Fit the model\n",
    "poly_model_8 = sm.OLS(y, X_poly_8).fit()\n"
   ]
  },
  {
   "cell_type": "code",
   "execution_count": 11,
   "metadata": {},
   "outputs": [
    {
     "name": "stdout",
     "output_type": "stream",
     "text": [
      "poly_model.params: const        0.316750\n",
      "Intercept    0.316750\n",
      "x^1         -3.119707\n",
      "x^2          7.206895\n",
      "x^3         -5.951494\n",
      "x^4          2.041504\n",
      "x^5         -0.335904\n",
      "x^6          0.027639\n",
      "x^7         -0.001063\n",
      "x^8          0.000014\n",
      "dtype: float64, poly_model.rsquared_adj: 0.818867629176001\n"
     ]
    }
   ],
   "source": [
    "# Your code here - evaluate (adjusted) R-Squared and coefficient p-values\n",
    "print(f\"poly_model.params: {poly_model_8.params}, poly_model.rsquared_adj: {poly_model_8.rsquared_adj}\")"
   ]
  },
  {
   "cell_type": "code",
   "execution_count": 12,
   "metadata": {},
   "outputs": [],
   "source": [
    "# Your written answer here - summarize findings\n"
   ]
  },
  {
   "cell_type": "markdown",
   "metadata": {},
   "source": [
    "<details>\n",
    "    <summary style=\"cursor: pointer\"><b>Answer (click to reveal)</b></summary>\n",
    "    \n",
    "Our R-Squared is higher, but none of the coefficients are statistically significant at an alpha of 0.05 any more. If what we care about is an inferential understanding of the data, this is too high a degree of the polynomial.\n",
    "    \n",
    "</details>"
   ]
  },
  {
   "cell_type": "markdown",
   "metadata": {},
   "source": [
    "## Plot All Models\n",
    "\n",
    "Build a single plot that shows the raw data as a scatter plot, as well as all of the models you have developed as line graphs. Make sure that everything is labeled so you can tell the different models apart!"
   ]
  },
  {
   "cell_type": "code",
   "execution_count": 15,
   "metadata": {},
   "outputs": [
    {
     "ename": "NameError",
     "evalue": "name 'model' is not defined",
     "output_type": "error",
     "traceback": [
      "\u001b[1;31m---------------------------------------------------------------------------\u001b[0m",
      "\u001b[1;31mNameError\u001b[0m                                 Traceback (most recent call last)",
      "\u001b[1;32m<ipython-input-15-92277e1e4a5c>\u001b[0m in \u001b[0;36m<module>\u001b[1;34m\u001b[0m\n\u001b[0;32m      7\u001b[0m \u001b[1;33m\u001b[0m\u001b[0m\n\u001b[0;32m      8\u001b[0m \u001b[1;31m# Predictions\u001b[0m\u001b[1;33m\u001b[0m\u001b[1;33m\u001b[0m\u001b[1;33m\u001b[0m\u001b[0m\n\u001b[1;32m----> 9\u001b[1;33m \u001b[0my_pred\u001b[0m \u001b[1;33m=\u001b[0m \u001b[0mmodel\u001b[0m\u001b[1;33m.\u001b[0m\u001b[0mpredict\u001b[0m\u001b[1;33m(\u001b[0m\u001b[0mx\u001b[0m\u001b[1;33m)\u001b[0m\u001b[1;33m\u001b[0m\u001b[1;33m\u001b[0m\u001b[0m\n\u001b[0m\u001b[0;32m     10\u001b[0m \u001b[1;33m\u001b[0m\u001b[0m\n\u001b[0;32m     11\u001b[0m \u001b[1;31m# Plot results\u001b[0m\u001b[1;33m\u001b[0m\u001b[1;33m\u001b[0m\u001b[1;33m\u001b[0m\u001b[0m\n",
      "\u001b[1;31mNameError\u001b[0m: name 'model' is not defined"
     ]
    }
   ],
   "source": []
  },
  {
   "cell_type": "markdown",
   "metadata": {},
   "source": [
    "### Interpret Findings\n",
    "\n",
    "Based on the metrics as well as the graphs, which model do you think is the best? Why?"
   ]
  },
  {
   "cell_type": "code",
   "execution_count": null,
   "metadata": {},
   "outputs": [],
   "source": [
    "# Your written answer here\n"
   ]
  },
  {
   "cell_type": "markdown",
   "metadata": {},
   "source": [
    "<details>\n",
    "    <summary style=\"cursor: pointer\"><b>Answer (click to reveal)</b></summary>\n",
    "    \n",
    "The quadratic model (polynomial degree 2) is definitely not the best based on all of the evidence we have. It has the worst R-Squared, the coefficient p-values are not significant, and you can see from the graph that there is a lot of variance in the data that it is not picking up on.\n",
    "\n",
    "Our visual inspection aligns with the worse R-Squared for the 4th degree polynomial compared to the 8th degree polynomial. The 4th degree polynomial is flatter and doesn't seem to capture the extremes of the data as well.\n",
    "    \n",
    "However if we wanted to interpret the coefficients, then only the 4th degree polynomial has statistically significant results. The interpretation would be challenging because of the number of terms, but we could apply some calculus techniques to describe inflection points.\n",
    "\n",
    "Overall it appears that this dataset is not particularly well suited to an inferential linear regression approach, even with polynomial transformations. So the \"best\" model could be either the 4th or 8th degree polynomial depending on which aspect of the model is more important to you, but either way it will be challenging to translate it into insights for stakeholders.\n",
    "    \n",
    "</details>"
   ]
  },
  {
   "cell_type": "markdown",
   "metadata": {},
   "source": [
    "## Summary"
   ]
  },
  {
   "cell_type": "markdown",
   "metadata": {},
   "source": [
    "Great job! You now know how to include polynomials in your linear models as well as the limitations of applying polynomial regression. "
   ]
  }
 ],
 "metadata": {
  "kernelspec": {
   "display_name": "Python (learn-env)",
   "language": "python",
   "name": "learn-env"
  },
  "language_info": {
   "codemirror_mode": {
    "name": "ipython",
    "version": 3
   },
   "file_extension": ".py",
   "mimetype": "text/x-python",
   "name": "python",
   "nbconvert_exporter": "python",
   "pygments_lexer": "ipython3",
   "version": "3.8.5"
  }
 },
 "nbformat": 4,
 "nbformat_minor": 2
}
